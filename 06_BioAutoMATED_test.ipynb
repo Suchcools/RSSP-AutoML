{
 "cells": [
  {
   "cell_type": "markdown",
   "metadata": {},
   "source": [
    "This is purposefully a pretty quick and poorly-performing test, since we are not really training models for very long. Make sure you can run everything here successfully to get familiar with the BioAutoMATED platform!"
   ]
  },
  {
   "cell_type": "code",
   "execution_count": null,
   "metadata": {},
   "outputs": [],
   "source": [
    "import sys\n",
    "sys.path.insert(1, 'BioAutoMATED/main_classes/')\n",
    "import warnings\n",
    "warnings.filterwarnings(\"ignore\")\n",
    "from wrapper import run_bioautomated\n",
    "import shutil\n",
    "import os\n",
    "from IPython.core.interactiveshell import InteractiveShell\n",
    "InteractiveShell.ast_node_interactivity = \"all\"\n",
    "\n",
    "# make directory where these results can live - no need to run if already have a directory"
   ]
  },
  {
   "cell_type": "code",
   "execution_count": null,
   "metadata": {},
   "outputs": [],
   "source": [
    "import tensorflow as tf\n",
    "tf.test.is_gpu_available()"
   ]
  },
  {
   "cell_type": "markdown",
   "metadata": {},
   "source": [
    "# General Parameters (can be changed)"
   ]
  },
  {
   "cell_type": "markdown",
   "metadata": {},
   "source": [
    "### input arguments \n",
    "- task : str, one of 'binary_classification', 'multiclass_classification', 'regression'\n",
    "- data_folder : str representing folder where data is stored\n",
    "- data_file : str representing file name where data is stored\n",
    "- sequence_type : str, either 'nucleic_acid', 'peptide', or 'glycan'\n",
    "- model_folder : str representing folder where models are to be stored\n",
    "- output_folder : str representing folder where output is to be stored\n",
    "- automl_search_techniques : str representing which AutoML search technique should be performed, one of 'all', 'deepswarm', 'autokeras', 'tpot'\n",
    "- do_backup : bool representing if a backup should be performed\n",
    "- max_runtime_minutes : int representing max runtime for model search in minutes\n",
    "- num_folds : int representing num folds\n",
    "- verbosity : int representing 0=not verbose, 1=verbose\n",
    "- do_auto_bin : bool representing if target values should be automatically binned\n",
    "- bin_threshold : float representing threshold for positive and negative classes\n",
    "- do_transform : bool representing if target values should be transformed\n",
    "- input_col : str representing input column name where sequences can be located\n",
    "- target_col : str representing target column name where target values can be located\n",
    "- pad_seqs : str indicating pad_seqs method, either 'max', 'min', 'average'\n",
    "- augment_data : str, either 'none', 'complement', 'reverse_complement', or 'both_complements'\n",
    "- dataset_robustness : bool indicating if data ablation study should be performed\n",
    "- num_final_epochs : int representing number of final epochs to train final deepswarm model\n",
    "- yaml_params : dict of extra deepswarm parameters, with keys 'max_depth' (int), 'ant_count' (int), 'epochs' (int)\n",
    "- num_generations : int representing number of generations of tpot search\n",
    "- population_size : int representing population size of tpot search\n",
    "- run_interpretation : bool indicating if interpretation module should be executed\n",
    "- interpret_params : dict of extra interpretation parameters, with keys 'sample_number_class_activation_maps' (int), 'class_activation_grad_modifier' (str), 'class_activation_layer_index' (int), 'sample_number_saliency_maps' (int), 'saliency_map_grad_modifier' (str), 'saliency_map_layer_index' (int), 'sample_number_mutagenesis' (int)\n",
    "- run_design : bool indicating if design module should be executed\n",
    "- design_params : dict of extra design parameters, with keys 'k' (int), 'substitution_type' (str), 'target_y' (float), 'class_of_interest' (int), 'constraint_file_path' (str), 'de_novo_num_seqs_to_test' (int), 'storm_num_seqs_to_test' (int), 'num_of_optimization_rounds' (int)"
   ]
  },
  {
   "cell_type": "code",
   "execution_count": null,
   "metadata": {},
   "outputs": [],
   "source": [
    "# specify parameters for the actual search (example)\n",
    "max_runtime_minutes = 60 # time in minutes to give to each implemented AutoML algorithms\n",
    "num_folds = 2 # recommend 3 - 5 folds for robustness\n",
    "\n",
    "# Deepswarm execution\n",
    "num_final_epochs = 10\n",
    "yaml_params = {'ant_count': 1, 'max_depth': 2, 'epochs': 5}\n",
    "\n",
    "# TPOT execution\n",
    "num_generations = 5\n",
    "population_size = 5"
   ]
  },
  {
   "cell_type": "markdown",
   "metadata": {},
   "source": [
    "Note that this runtime (10 minutes) may be too short for your machine's computing capabilites (see note under Troubleshooting in the Installation Guide). If so, please change max_runtime_minutes to 60. Make sure to reset the graph operations of BioAutoMATED by restarting the kernel (Kernel --> Restart) before trying to run again."
   ]
  },
  {
   "cell_type": "markdown",
   "metadata": {},
   "source": [
    "# Synthetic Nucleic Acids Dataset"
   ]
  },
  {
   "cell_type": "code",
   "execution_count": null,
   "metadata": {},
   "outputs": [],
   "source": [
    "data_folder = './dataset/rigorous/'\n",
    "data_file = 'train_Gene_group1.csv'\n",
    "input_col = 'seq'\n",
    "target_col = 'target'\n",
    "sequence_type = 'nucleic_acid'\n",
    "verbosity = 1\n",
    "task = 'regression' # binary_classification, multiclass_classification, regression\n",
    "\n",
    "# Specify target folders for saving models and results\n",
    "# Generic here - will add the tags specifying classification/regression\n",
    "# as well as specific for the AutoML tool being used (i.e. /tpot/)\n",
    "root_path = \"./ckpt/rigorous/Gene_group1\"\n",
    "os.mkdir(root_path)\n",
    "model_folder = f'{root_path}/models/'\n",
    "output_folder = f'{root_path}/outputs/'\n",
    "\n",
    "run_bioautomated(task, data_folder, data_file, sequence_type, model_folder, output_folder, input_col=input_col, target_col=target_col, max_runtime_minutes=max_runtime_minutes, num_folds=num_folds, verbosity=verbosity, num_final_epochs=num_final_epochs, yaml_params=yaml_params, num_generations=num_generations, population_size=population_size)\n"
   ]
  }
 ],
 "metadata": {
  "kernelspec": {
   "display_name": "Python 3 (ipykernel)",
   "language": "python",
   "name": "python3"
  },
  "language_info": {
   "codemirror_mode": {
    "name": "ipython",
    "version": 3
   },
   "file_extension": ".py",
   "mimetype": "text/x-python",
   "name": "python",
   "nbconvert_exporter": "python",
   "pygments_lexer": "ipython3",
   "version": "3.7.10"
  }
 },
 "nbformat": 4,
 "nbformat_minor": 4
}
